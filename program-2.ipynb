{
 "cells": [
  {
   "cell_type": "code",
   "execution_count": 1,
   "metadata": {},
   "outputs": [],
   "source": [
    "#python program to print all p[rime numbers in interval\n",
    "def  primenos():\n",
    "    s=int(input(\"enter your 1st no based on your choise:\"))\n",
    "    e=int(input(\"enter your 2nd number based on your choice:\"))\n",
    "    for i in range(s,e+1):\n",
    "        for j in range(2,i):\n",
    "            if (i%j==0):\n",
    "                break\n",
    "        else:\n",
    "            print(i)"
   ]
  },
  {
   "cell_type": "code",
   "execution_count": 2,
   "metadata": {},
   "outputs": [
    {
     "name": "stdout",
     "output_type": "stream",
     "text": [
      "enter your 1st no based on your choise:1\n",
      "enter your 2nd number based on your choice:7\n",
      "1\n",
      "2\n",
      "3\n",
      "5\n",
      "7\n"
     ]
    }
   ],
   "source": [
    "primenos()"
   ]
  },
  {
   "cell_type": "code",
   "execution_count": 3,
   "metadata": {},
   "outputs": [],
   "source": [
    "#python program to check whether a number ios prime or not\n",
    "def checkprime():\n",
    "    n=int(input(\"enter a number based on your cjhoice:\"))\n",
    "    for j in range(2,int(n//2)+1):\n",
    "        if (n%j==0):\n",
    "            print(n,\"num is not a prime no\")\n",
    "            break\n",
    "    else:\n",
    "        print(n,\"num is a primr number\")   "
   ]
  },
  {
   "cell_type": "code",
   "execution_count": 4,
   "metadata": {},
   "outputs": [
    {
     "name": "stdout",
     "output_type": "stream",
     "text": [
      "enter a number based on your cjhoice:7\n",
      "7 num is a primr number\n"
     ]
    }
   ],
   "source": [
    "checkprime()"
   ]
  },
  {
   "cell_type": "code",
   "execution_count": 5,
   "metadata": {},
   "outputs": [],
   "source": [
    "#program for nth fibonaci number\n",
    "def fibonaci():\n",
    "    n=int(input(\"enter a number based on your coice:\"))\n",
    "    a=0\n",
    "    b=1\n",
    "    if n<0:\n",
    "        print(\"please enter a valid no\")\n",
    "    elif n==0:\n",
    "        return a\n",
    "    elif n==1:\n",
    "        return b\n",
    "    else:\n",
    "        for i in range(2,n+1):\n",
    "            c=a+b\n",
    "            a=b\n",
    "            b=c\n",
    "        return b\n",
    "\n",
    "        \n",
    "        \n",
    "        "
   ]
  },
  {
   "cell_type": "code",
   "execution_count": 6,
   "metadata": {},
   "outputs": [
    {
     "name": "stdout",
     "output_type": "stream",
     "text": [
      "enter a number based on your coice:9\n"
     ]
    },
    {
     "data": {
      "text/plain": [
       "34"
      ]
     },
     "execution_count": 6,
     "metadata": {},
     "output_type": "execute_result"
    }
   ],
   "source": [
    "fibonaci()"
   ]
  },
  {
   "cell_type": "code",
   "execution_count": 12,
   "metadata": {},
   "outputs": [],
   "source": [
    "#program for nth fibonaci number usin recursion\n",
    "def fibo(n):\n",
    "    if n<0:\n",
    "        print(\"enter a valid number:\")\n",
    "    elif n==0:\n",
    "        return 0\n",
    "    elif n==1:\n",
    "        return 1\n",
    "    else:\n",
    "        return fibo(n-1)+fibo(n-2)\n"
   ]
  },
  {
   "cell_type": "code",
   "execution_count": 13,
   "metadata": {},
   "outputs": [
    {
     "data": {
      "text/plain": [
       "34"
      ]
     },
     "execution_count": 13,
     "metadata": {},
     "output_type": "execute_result"
    }
   ],
   "source": [
    "fibo(9)"
   ]
  },
  {
   "cell_type": "code",
   "execution_count": 14,
   "metadata": {},
   "outputs": [],
   "source": [
    "#Python Program for How to check if a given number is Fibonacci number\n",
    "import math\n",
    "def checkperfectsquare(x):\n",
    "    s=int(math.sqrt(x))\n",
    "    return s*s==x"
   ]
  },
  {
   "cell_type": "code",
   "execution_count": 15,
   "metadata": {},
   "outputs": [
    {
     "data": {
      "text/plain": [
       "True"
      ]
     },
     "execution_count": 15,
     "metadata": {},
     "output_type": "execute_result"
    }
   ],
   "source": [
    "checkperfectsquare(25)"
   ]
  },
  {
   "cell_type": "code",
   "execution_count": 18,
   "metadata": {},
   "outputs": [],
   "source": [
    "def checkfibno():\n",
    "    num=int(input(\"enter a number based on your choice:\"))\n",
    "    if checkperfectsquare(5*num*num+4)==True or checkperfectsquare(5*num*num-4)==True :\n",
    "        return (num,\"no is a fibonaci number\")\n",
    "    else:\n",
    "        return(num,\"no is not a fibonaci no\")"
   ]
  },
  {
   "cell_type": "code",
   "execution_count": 19,
   "metadata": {},
   "outputs": [
    {
     "name": "stdout",
     "output_type": "stream",
     "text": [
      "enter a number based on your choice:8\n"
     ]
    },
    {
     "data": {
      "text/plain": [
       "(8, 'no is a fibonaci number')"
      ]
     },
     "execution_count": 19,
     "metadata": {},
     "output_type": "execute_result"
    }
   ],
   "source": [
    "checkfibno()"
   ]
  },
  {
   "cell_type": "code",
   "execution_count": null,
   "metadata": {},
   "outputs": [],
   "source": []
  }
 ],
 "metadata": {
  "kernelspec": {
   "display_name": "Python 3",
   "language": "python",
   "name": "python3"
  },
  "language_info": {
   "codemirror_mode": {
    "name": "ipython",
    "version": 3
   },
   "file_extension": ".py",
   "mimetype": "text/x-python",
   "name": "python",
   "nbconvert_exporter": "python",
   "pygments_lexer": "ipython3",
   "version": "3.7.6"
  }
 },
 "nbformat": 4,
 "nbformat_minor": 4
}
