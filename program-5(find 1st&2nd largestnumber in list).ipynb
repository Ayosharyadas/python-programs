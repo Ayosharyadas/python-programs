{
 "cells": [
  {
   "cell_type": "code",
   "execution_count": 1,
   "metadata": {},
   "outputs": [],
   "source": [
    "# create a function which will create a list by  your choice and find the largest number in list.\n",
    "def largest():\n",
    "    n=int(input(\"enter a number by your choice:\"))\n",
    "    list1=[]\n",
    "    for i in range(1,n+1):\n",
    "        ele=int(input(\"ente number by your choice:\"))\n",
    "        list1.append(ele)\n",
    "    list1.sort()\n",
    "    max=list1[-1]\n",
    "    return(max)\n",
    "\n",
    "    \n",
    "        "
   ]
  },
  {
   "cell_type": "code",
   "execution_count": 2,
   "metadata": {},
   "outputs": [
    {
     "name": "stdout",
     "output_type": "stream",
     "text": [
      "enter a number by your choice:7\n",
      "ente number by your choice:1\n",
      "ente number by your choice:78\n",
      "ente number by your choice:90\n",
      "ente number by your choice:34\n",
      "ente number by your choice:45\n",
      "ente number by your choice:12\n",
      "ente number by your choice:38\n"
     ]
    },
    {
     "data": {
      "text/plain": [
       "90"
      ]
     },
     "execution_count": 2,
     "metadata": {},
     "output_type": "execute_result"
    }
   ],
   "source": [
    "largest()"
   ]
  },
  {
   "cell_type": "code",
   "execution_count": 3,
   "metadata": {},
   "outputs": [],
   "source": [
    "#method 2 for searching largest number in list:\n",
    "def largest1():\n",
    "    s=list(map(int,input().split()))\n",
    "    max=s[0]\n",
    "    for i in range(len(s)):\n",
    "        if s[i]>max:\n",
    "            max=s[i]\n",
    "    return max\n",
    "        \n",
    "        \n",
    "        \n",
    "    \n",
    "    \n",
    "        \n",
    "    "
   ]
  },
  {
   "cell_type": "code",
   "execution_count": 4,
   "metadata": {},
   "outputs": [
    {
     "name": "stdout",
     "output_type": "stream",
     "text": [
      "1 2 3 4 5 6 7 8 9 90 34 56 200\n"
     ]
    },
    {
     "data": {
      "text/plain": [
       "200"
      ]
     },
     "execution_count": 4,
     "metadata": {},
     "output_type": "execute_result"
    }
   ],
   "source": [
    "largest1()"
   ]
  },
  {
   "cell_type": "code",
   "execution_count": 5,
   "metadata": {},
   "outputs": [],
   "source": [
    "# method 3 for searching largest number in list\n",
    "def largest3(list1):\n",
    "    return max(list1)"
   ]
  },
  {
   "cell_type": "code",
   "execution_count": 6,
   "metadata": {},
   "outputs": [
    {
     "data": {
      "text/plain": [
       "90"
      ]
     },
     "execution_count": 6,
     "metadata": {},
     "output_type": "execute_result"
    }
   ],
   "source": [
    "largest3([1,78,90,56,45])"
   ]
  },
  {
   "cell_type": "code",
   "execution_count": 7,
   "metadata": {},
   "outputs": [],
   "source": [
    "# create a function which will create a list by user choice and giving you second largest number in list\n",
    "def secondlarge():\n",
    "    n= int(input(\"enter your number by your choice\"))\n",
    "    list2=[]\n",
    "    for i in range(1,n+1):\n",
    "        ele=int(input(\"enter your number by your choice:\"))\n",
    "        list2.append(ele)\n",
    "    list2.sort()\n",
    "    smax=list2[-2]\n",
    "    return smax\n",
    "        "
   ]
  },
  {
   "cell_type": "code",
   "execution_count": 8,
   "metadata": {},
   "outputs": [
    {
     "name": "stdout",
     "output_type": "stream",
     "text": [
      "enter your number by your choice6\n",
      "enter your number by your choice:23\n",
      "enter your number by your choice:56\n",
      "enter your number by your choice:78\n",
      "enter your number by your choice:90\n",
      "enter your number by your choice:23\n",
      "enter your number by your choice:12\n"
     ]
    },
    {
     "data": {
      "text/plain": [
       "78"
      ]
     },
     "execution_count": 8,
     "metadata": {},
     "output_type": "execute_result"
    }
   ],
   "source": [
    "secondlarge()"
   ]
  },
  {
   "cell_type": "code",
   "execution_count": 3,
   "metadata": {},
   "outputs": [],
   "source": [
    "#method 2 for searching 2nd largest number in list\n",
    "def secondlargest2():\n",
    "    s=list(map(int,input().split()))\n",
    "    fmax=max(s[0],s[1])\n",
    "    smax=min(s[0],s[1])\n",
    "    n=len(s)\n",
    "    for i in range(2,n):\n",
    "        if s[i]>fmax:\n",
    "            smax=fmax\n",
    "            fmax=s[i]\n",
    "    return smax\n",
    "        "
   ]
  },
  {
   "cell_type": "code",
   "execution_count": 4,
   "metadata": {},
   "outputs": [
    {
     "name": "stdout",
     "output_type": "stream",
     "text": [
      "45 67 89 90\n"
     ]
    },
    {
     "data": {
      "text/plain": [
       "89"
      ]
     },
     "execution_count": 4,
     "metadata": {},
     "output_type": "execute_result"
    }
   ],
   "source": [
    "secondlargest2()"
   ]
  },
  {
   "cell_type": "code",
   "execution_count": 8,
   "metadata": {},
   "outputs": [],
   "source": [
    "# method3 for searching 2nd largest number\n",
    "def slargest3(list2):\n",
    "    list3=set(list2)\n",
    "    list3.remove(max(list3))\n",
    "    return max(list3)\n"
   ]
  },
  {
   "cell_type": "code",
   "execution_count": 9,
   "metadata": {},
   "outputs": [
    {
     "data": {
      "text/plain": [
       "78"
      ]
     },
     "execution_count": 9,
     "metadata": {},
     "output_type": "execute_result"
    }
   ],
   "source": [
    "slargest3([45,78,90,43,65])"
   ]
  },
  {
   "cell_type": "code",
   "execution_count": null,
   "metadata": {},
   "outputs": [],
   "source": []
  }
 ],
 "metadata": {
  "kernelspec": {
   "display_name": "Python 3",
   "language": "python",
   "name": "python3"
  },
  "language_info": {
   "codemirror_mode": {
    "name": "ipython",
    "version": 3
   },
   "file_extension": ".py",
   "mimetype": "text/x-python",
   "name": "python",
   "nbconvert_exporter": "python",
   "pygments_lexer": "ipython3",
   "version": "3.7.6"
  }
 },
 "nbformat": 4,
 "nbformat_minor": 4
}
