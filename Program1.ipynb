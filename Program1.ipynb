{
 "cells": [
  {
   "cell_type": "code",
   "execution_count": 1,
   "metadata": {},
   "outputs": [],
   "source": [
    "#Program to find factorial\n",
    "def factorial():\n",
    "    n=int(input(\"enter a number as your choice to find factorial:\"))\n",
    "    if n<0:\n",
    "        return 0\n",
    "    elif n==1 or n==0:\n",
    "        return 1\n",
    "    else:\n",
    "        fact=1\n",
    "        while(n>1):\n",
    "            fact=fact*n\n",
    "            n=n-1\n",
    "        return fact\n",
    "   "
   ]
  },
  {
   "cell_type": "code",
   "execution_count": 2,
   "metadata": {},
   "outputs": [
    {
     "name": "stdout",
     "output_type": "stream",
     "text": [
      "enter a number as your choice to find factorial:5\n"
     ]
    },
    {
     "data": {
      "text/plain": [
       "120"
      ]
     },
     "execution_count": 2,
     "metadata": {},
     "output_type": "execute_result"
    }
   ],
   "source": [
    "factorial()"
   ]
  },
  {
   "cell_type": "code",
   "execution_count": 3,
   "metadata": {},
   "outputs": [],
   "source": [
    "#Program to find factorial using recursion\n",
    "def fact(n):\n",
    "    if n<0:\n",
    "        return 0\n",
    "    elif n==0 or n==1:\n",
    "        return 1\n",
    "    else:\n",
    "        return n*fact(n-1)\n"
   ]
  },
  {
   "cell_type": "code",
   "execution_count": 4,
   "metadata": {},
   "outputs": [
    {
     "data": {
      "text/plain": [
       "5040"
      ]
     },
     "execution_count": 4,
     "metadata": {},
     "output_type": "execute_result"
    }
   ],
   "source": [
    "fact(7)"
   ]
  },
  {
   "cell_type": "code",
   "execution_count": 5,
   "metadata": {},
   "outputs": [],
   "source": [
    "#using library to find factorial of a number\n",
    "import math\n",
    "def facts(n):\n",
    "    return(math.factorial(n))"
   ]
  },
  {
   "cell_type": "code",
   "execution_count": 6,
   "metadata": {},
   "outputs": [
    {
     "data": {
      "text/plain": [
       "120"
      ]
     },
     "execution_count": 6,
     "metadata": {},
     "output_type": "execute_result"
    }
   ],
   "source": [
    "facts(5)"
   ]
  },
  {
   "cell_type": "code",
   "execution_count": 7,
   "metadata": {},
   "outputs": [],
   "source": [
    "#check whether a number is armstrong or not for 3 digit\n",
    "def checkarmstrong():\n",
    "    n=int(input(\"enter a number based on your choice:\"))\n",
    "    num=n\n",
    "    sum=0\n",
    "    while(num>=1):\n",
    "        rem=num%10\n",
    "        sum=sum+rem\n",
    "        num=num//10\n",
    "    if sum==n:\n",
    "        print(\"no is  a Armstrong number:\")\n",
    "    else:\n",
    "        print(\"no is a Armstrong number:\")\n",
    "        "
   ]
  },
  {
   "cell_type": "code",
   "execution_count": 8,
   "metadata": {},
   "outputs": [
    {
     "name": "stdout",
     "output_type": "stream",
     "text": [
      "enter a number based on your choice:153\n",
      "no is a Armstrong number:\n"
     ]
    }
   ],
   "source": [
    "checkarmstrong()"
   ]
  },
  {
   "cell_type": "code",
   "execution_count": 9,
   "metadata": {},
   "outputs": [],
   "source": [
    "#Write a program to check whether a number is Armstrong or not for any digit of number\n",
    "#step-1\n",
    "#function for calculation power of number\n",
    "def power(x,y):\n",
    "    if (y==0):\n",
    "        return 1\n",
    "    elif(y%2==0):\n",
    "        return power(x,y//2)*power(x,y//2)\n",
    "    else:\n",
    "        return x*power(x,y//2)*power(x,y//2)\n",
    "    \n",
    "#fuction to calculate oder of a number\n",
    "def oder(x):\n",
    "    n=0\n",
    "    while(x!=0):\n",
    "        n=n+1\n",
    "        x=x//10\n",
    "    return n\n",
    "\n",
    "#step-3\n",
    "#function for armstrong\n",
    "def Armstrong():\n",
    "    num=int(input(\"enter a number based on your choice:\"))\n",
    "    n=oder(num)\n",
    "    temp=num\n",
    "    sum=0\n",
    "    \n",
    "    while(temp>=1):\n",
    "        rem=temp%10\n",
    "        sum=sum+power(rem,n)\n",
    "        temp=temp//10\n",
    "        \n",
    "    if sum==num:\n",
    "        print(\"No is Armstrong:\")\n",
    "    else:\n",
    "        print(\"No is not Armstrong:\")\n",
    "\n",
    "        \n",
    "        "
   ]
  },
  {
   "cell_type": "code",
   "execution_count": 10,
   "metadata": {},
   "outputs": [
    {
     "name": "stdout",
     "output_type": "stream",
     "text": [
      "enter a number based on your choice:153\n",
      "No is Armstrong:\n"
     ]
    }
   ],
   "source": [
    "Armstrong()"
   ]
  },
  {
   "cell_type": "code",
   "execution_count": null,
   "metadata": {},
   "outputs": [],
   "source": []
  }
 ],
 "metadata": {
  "kernelspec": {
   "display_name": "Python 3",
   "language": "python",
   "name": "python3"
  },
  "language_info": {
   "codemirror_mode": {
    "name": "ipython",
    "version": 3
   },
   "file_extension": ".py",
   "mimetype": "text/x-python",
   "name": "python",
   "nbconvert_exporter": "python",
   "pygments_lexer": "ipython3",
   "version": "3.7.6"
  }
 },
 "nbformat": 4,
 "nbformat_minor": 4
}
