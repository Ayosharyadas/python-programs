{
 "cells": [
  {
   "cell_type": "code",
   "execution_count": 1,
   "metadata": {},
   "outputs": [],
   "source": [
    "#logger questions:\n",
    "\n",
    "import logging as lg\n",
    "import os\n",
    "\n",
    "    \n",
    "\n",
    "\n",
    "\n"
   ]
  },
  {
   "cell_type": "code",
   "execution_count": 2,
   "metadata": {},
   "outputs": [
    {
     "data": {
      "text/plain": [
       "'C:\\\\Users\\\\ADMIN'"
      ]
     },
     "execution_count": 2,
     "metadata": {},
     "output_type": "execute_result"
    }
   ],
   "source": [
    "pwd()"
   ]
  },
  {
   "cell_type": "code",
   "execution_count": 3,
   "metadata": {},
   "outputs": [],
   "source": [
    "os.mkdir(\"gitlog\")"
   ]
  },
  {
   "cell_type": "code",
   "execution_count": 4,
   "metadata": {},
   "outputs": [],
   "source": [
    "os.chdir(os.getcwd()+ \"/\" + \"gitlog\")"
   ]
  },
  {
   "cell_type": "code",
   "execution_count": 5,
   "metadata": {},
   "outputs": [
    {
     "data": {
      "text/plain": [
       "'C:\\\\Users\\\\ADMIN\\\\gitlog'"
      ]
     },
     "execution_count": 5,
     "metadata": {},
     "output_type": "execute_result"
    }
   ],
   "source": [
    "pwd()"
   ]
  },
  {
   "cell_type": "code",
   "execution_count": 10,
   "metadata": {},
   "outputs": [
    {
     "name": "stdout",
     "output_type": "stream",
     "text": [
      "2021-08-04 21:09:28,061 error has occured\n",
      "2021-08-04 21:09:28,061 division by zero\n",
      "Traceback (most recent call last):\n",
      "  File \"<ipython-input-6-a4fd2bb74ea7>\", line 6, in division\n",
      "    div=a/b\n",
      "ZeroDivisionError: division by zero\n",
      "2021-08-04 21:15:24,693 error has occured\n",
      "2021-08-04 21:15:24,694 division by zero\n",
      "Traceback (most recent call last):\n",
      "  File \"<ipython-input-8-2bb97f28ac97>\", line 6, in division\n",
      "    div=a/b\n",
      "ZeroDivisionError: division by zero\n",
      "\n"
     ]
    }
   ],
   "source": [
    "# simple questions for logger concept\n",
    "def division(a,b):\n",
    "    lg.basicConfig(filename=\"C:\\\\Users\\\\ADMIN\\\\gitlog\\\\logfunction.log\" , level=lg.INFO ,format='%(asctime)s %(message)s')\n",
    "    try:\n",
    "        lg.info(\"input for my function division\"+ str(a) +str(b))\n",
    "        div=a/b\n",
    "        return div\n",
    "    except Exception as e:\n",
    "        print(\"you can check your log for more information if your code fail\")\n",
    "        lg.error(\"error has occured\")\n",
    "        lg.exception(str(e))\n",
    "# check for log files\n",
    "if (os.path.exists(\"logfunction.log\")):\n",
    "    file=open(\"C:\\\\Users\\\\ADMIN\\\\gitlog\\\\logfunction.log\",'r')\n",
    "    print(file.read())\n",
    "    "
   ]
  },
  {
   "cell_type": "code",
   "execution_count": 11,
   "metadata": {},
   "outputs": [
    {
     "name": "stdout",
     "output_type": "stream",
     "text": [
      "you can check your log for more information if your code fail\n"
     ]
    }
   ],
   "source": [
    "division(7,0)"
   ]
  },
  {
   "cell_type": "code",
   "execution_count": null,
   "metadata": {},
   "outputs": [],
   "source": []
  }
 ],
 "metadata": {
  "kernelspec": {
   "display_name": "Python 3",
   "language": "python",
   "name": "python3"
  },
  "language_info": {
   "codemirror_mode": {
    "name": "ipython",
    "version": 3
   },
   "file_extension": ".py",
   "mimetype": "text/x-python",
   "name": "python",
   "nbconvert_exporter": "python",
   "pygments_lexer": "ipython3",
   "version": "3.7.6"
  }
 },
 "nbformat": 4,
 "nbformat_minor": 4
}
