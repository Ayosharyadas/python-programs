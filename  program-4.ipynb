{
 "cells": [
  {
   "cell_type": "code",
   "execution_count": 1,
   "metadata": {},
   "outputs": [],
   "source": [
    "#check if element exist in list in python\n",
    "def checklist(list):\n",
    "    ele=int(input(\"enter your element\"))    \n",
    "    for i in list:                                                       \n",
    "        if (i==ele):\n",
    "            print(\"your element is exist in the list\")\n",
    "            break\n",
    "        else:\n",
    "            print(\"your element is not exist\")\n",
    "    print(\"you are sucessfully check your result\")"
   ]
  },
  {
   "cell_type": "code",
   "execution_count": 2,
   "metadata": {},
   "outputs": [
    {
     "name": "stdout",
     "output_type": "stream",
     "text": [
      "enter your element1\n",
      "your element is exist in the list\n",
      "you are sucessfully check your result\n"
     ]
    }
   ],
   "source": [
    "checklist([1,2,3,4])"
   ]
  },
  {
   "cell_type": "code",
   "execution_count": 4,
   "metadata": {},
   "outputs": [
    {
     "name": "stdout",
     "output_type": "stream",
     "text": [
      "List1 before deleting is : [1, 2, 3, 4, 5, 6, 7]\n",
      "List1 after clearing using clear() : []\n",
      "[]\n"
     ]
    }
   ],
   "source": [
    "#different ways to clean element in list\n",
    "#method1\n",
    "list1=[1,2,3,4,5,6,7]\n",
    "print (\"List1 before deleting is : \" +  str(list1))\n",
    "list1.clear()\n",
    "print (\"List1 after clearing using clear() : \" + str(list1))\n",
    "print(list1)"
   ]
  },
  {
   "cell_type": "code",
   "execution_count": 5,
   "metadata": {},
   "outputs": [
    {
     "name": "stdout",
     "output_type": "stream",
     "text": [
      "List1 before deleting is : [1, 2, 3, 4, 5, 6, 7]\n",
      "List1 after clearing using *=0 : []\n",
      "[]\n"
     ]
    }
   ],
   "source": [
    "#metjhod2\n",
    "list1=[1,2,3,4,5,6,7]\n",
    "print (\"List1 before deleting is : \" +  str(list1))\n",
    "list1 *=0\n",
    "print (\"List1 after clearing using *=0 : \" + str(list1))\n",
    "print(list1)"
   ]
  },
  {
   "cell_type": "code",
   "execution_count": 6,
   "metadata": {},
   "outputs": [],
   "source": [
    "#reversing a list in python\n",
    "#method1\n",
    "def reverselist(list):\n",
    "    list.reverse()\n",
    "    return list"
   ]
  },
  {
   "cell_type": "code",
   "execution_count": 7,
   "metadata": {},
   "outputs": [
    {
     "data": {
      "text/plain": [
       "[10, 9, 8, 7, 6, 5, 4, 3, 2, 1]"
      ]
     },
     "execution_count": 7,
     "metadata": {},
     "output_type": "execute_result"
    }
   ],
   "source": [
    "reverselist([1,2,3,4,5,6,7,8,9,10])"
   ]
  },
  {
   "cell_type": "code",
   "execution_count": 10,
   "metadata": {},
   "outputs": [],
   "source": [
    "#method2\n",
    "def revlist(list):\n",
    "    new_list=list[::-1]\n",
    "    return new_list"
   ]
  },
  {
   "cell_type": "code",
   "execution_count": 11,
   "metadata": {},
   "outputs": [
    {
     "data": {
      "text/plain": [
       "[6, 5, 4, 3, 2, 1]"
      ]
     },
     "execution_count": 11,
     "metadata": {},
     "output_type": "execute_result"
    }
   ],
   "source": [
    "revlist([1,2,3,4,5,6])"
   ]
  },
  {
   "cell_type": "code",
   "execution_count": 14,
   "metadata": {},
   "outputs": [],
   "source": [
    "#python program to find sum of elements in a list:\n",
    "#method1\n",
    "def sumlist(list):\n",
    "    sum=0\n",
    "    for i in list:\n",
    "        sum = sum+i\n",
    "    return sum\n"
   ]
  },
  {
   "cell_type": "code",
   "execution_count": 15,
   "metadata": {},
   "outputs": [
    {
     "data": {
      "text/plain": [
       "28"
      ]
     },
     "execution_count": 15,
     "metadata": {},
     "output_type": "execute_result"
    }
   ],
   "source": [
    "sumlist([1,2,3,4,5,6,7])"
   ]
  },
  {
   "cell_type": "code",
   "execution_count": 20,
   "metadata": {},
   "outputs": [],
   "source": [
    "#method2\n",
    "def sumlist1(list):\n",
    "    sum=0\n",
    "    for i in range(0,len(list)):\n",
    "        sum=sum+list[i]\n",
    "    return sum"
   ]
  },
  {
   "cell_type": "code",
   "execution_count": 21,
   "metadata": {},
   "outputs": [
    {
     "data": {
      "text/plain": [
       "21"
      ]
     },
     "execution_count": 21,
     "metadata": {},
     "output_type": "execute_result"
    }
   ],
   "source": [
    "sumlist1([1,2,3,4,5,6])"
   ]
  },
  {
   "cell_type": "code",
   "execution_count": 24,
   "metadata": {},
   "outputs": [],
   "source": [
    "#method3 using while loop\n",
    "def sumlist2(list):\n",
    "    n=0\n",
    "    sum=0\n",
    "    while(n<len(list)):\n",
    "        sum=sum+list[n]\n",
    "        n+=1\n",
    "    return sum"
   ]
  },
  {
   "cell_type": "code",
   "execution_count": 25,
   "metadata": {},
   "outputs": [
    {
     "data": {
      "text/plain": [
       "21"
      ]
     },
     "execution_count": 25,
     "metadata": {},
     "output_type": "execute_result"
    }
   ],
   "source": [
    " sumlist2([1,2,3,4,5,6])"
   ]
  },
  {
   "cell_type": "code",
   "execution_count": 26,
   "metadata": {},
   "outputs": [],
   "source": [
    "#using recursion method:\n",
    "def sumlist3(list,size):\n",
    "    if size==0:\n",
    "        return 0\n",
    "    else:\n",
    "        return list[size-1]+sumlist3(list,size-1)"
   ]
  },
  {
   "cell_type": "code",
   "execution_count": 31,
   "metadata": {},
   "outputs": [],
   "source": [
    "list=[1,2,3,4,5,6]\n"
   ]
  },
  {
   "cell_type": "code",
   "execution_count": 32,
   "metadata": {},
   "outputs": [
    {
     "data": {
      "text/plain": [
       "21"
      ]
     },
     "execution_count": 32,
     "metadata": {},
     "output_type": "execute_result"
    }
   ],
   "source": [
    "sumlist3(list,len(list))"
   ]
  },
  {
   "cell_type": "code",
   "execution_count": 33,
   "metadata": {},
   "outputs": [],
   "source": [
    "#python program to create a list and  find smalleest number in a list:\n",
    "def smallest():\n",
    "    list=[]\n",
    "    num=int(input(\"enter a number based on your choice:\"))\n",
    "    for i in range(0,num+1):\n",
    "        element=int(input(\"enter your input value basedon your choice\"))\n",
    "        list.append(element)\n",
    "    return min(list)\n",
    "                          \n",
    "                          \n",
    "        \n",
    "    "
   ]
  },
  {
   "cell_type": "code",
   "execution_count": 34,
   "metadata": {},
   "outputs": [
    {
     "name": "stdout",
     "output_type": "stream",
     "text": [
      "enter a number based on your choice:7\n",
      "enter your input value basedon your choice1\n",
      "enter your input value basedon your choice6\n",
      "enter your input value basedon your choice8\n",
      "enter your input value basedon your choice10\n",
      "enter your input value basedon your choice67\n",
      "enter your input value basedon your choice89\n",
      "enter your input value basedon your choice34\n",
      "enter your input value basedon your choice12\n"
     ]
    },
    {
     "data": {
      "text/plain": [
       "1"
      ]
     },
     "execution_count": 34,
     "metadata": {},
     "output_type": "execute_result"
    }
   ],
   "source": [
    "smallest()"
   ]
  },
  {
   "cell_type": "code",
   "execution_count": 35,
   "metadata": {},
   "outputs": [],
   "source": [
    "# other method to get smallaest element in a list\n",
    "def smalele(list):\n",
    "    list.sort()\n",
    "    print(\"smallest element in loop\",list[0])"
   ]
  },
  {
   "cell_type": "code",
   "execution_count": 36,
   "metadata": {},
   "outputs": [
    {
     "name": "stdout",
     "output_type": "stream",
     "text": [
      "smallest element in loop 34\n"
     ]
    }
   ],
   "source": [
    "smalele([98,67,34])"
   ]
  },
  {
   "cell_type": "code",
   "execution_count": 38,
   "metadata": {},
   "outputs": [],
   "source": [
    "#python program to find a largest element in alist\n",
    "def largest():\n",
    "    list=[]\n",
    "    num=int(input(\"enter a number based on your choice\"))\n",
    "    for i in range(0,num+1):\n",
    "        ele=int(input(\"enter a input no based on your choice:\"))\n",
    "        list.append(ele)\n",
    "    max=list[0]\n",
    "    for i in list:\n",
    "        if i<max:\n",
    "            return max\n",
    "        else:\n",
    "            return i\n",
    "    "
   ]
  },
  {
   "cell_type": "code",
   "execution_count": 39,
   "metadata": {},
   "outputs": [
    {
     "name": "stdout",
     "output_type": "stream",
     "text": [
      "enter a number based on your choice3\n",
      "enter a input no based on your choice:8\n",
      "enter a input no based on your choice:6\n",
      "enter a input no based on your choice:5\n",
      "enter a input no based on your choice:3\n"
     ]
    },
    {
     "data": {
      "text/plain": [
       "8"
      ]
     },
     "execution_count": 39,
     "metadata": {},
     "output_type": "execute_result"
    }
   ],
   "source": [
    "largest()"
   ]
  },
  {
   "cell_type": "code",
   "execution_count": null,
   "metadata": {},
   "outputs": [],
   "source": []
  }
 ],
 "metadata": {
  "kernelspec": {
   "display_name": "Python 3",
   "language": "python",
   "name": "python3"
  },
  "language_info": {
   "codemirror_mode": {
    "name": "ipython",
    "version": 3
   },
   "file_extension": ".py",
   "mimetype": "text/x-python",
   "name": "python",
   "nbconvert_exporter": "python",
   "pygments_lexer": "ipython3",
   "version": "3.7.6"
  }
 },
 "nbformat": 4,
 "nbformat_minor": 4
}
